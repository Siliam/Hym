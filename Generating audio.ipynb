{
 "cells": [
  {
   "cell_type": "code",
   "execution_count": 1,
   "id": "51247cd9-1951-441f-9fc2-e6fc02a6a334",
   "metadata": {},
   "outputs": [],
   "source": [
    "# ! pip3 install TTS"
   ]
  },
  {
   "cell_type": "code",
   "execution_count": 2,
   "id": "d59561bb-c3e5-4253-87eb-ec2704c99178",
   "metadata": {},
   "outputs": [],
   "source": [
    "# ! sudo apt-get install espeak"
   ]
  },
  {
   "cell_type": "code",
   "execution_count": 1,
   "id": "a1479826-8214-4a58-b30c-59238bfa1500",
   "metadata": {},
   "outputs": [],
   "source": [
    "# ! pip3 install pygobject"
   ]
  },
  {
   "cell_type": "code",
   "execution_count": 1,
   "id": "8cffb04b-f5c0-4ea1-9540-051443224837",
   "metadata": {},
   "outputs": [],
   "source": [
    "from TTS.api import TTS\n",
    "from pprint import pprint"
   ]
  },
  {
   "cell_type": "code",
   "execution_count": 2,
   "id": "c9321c8a-d45a-41c4-872f-26248a6432f8",
   "metadata": {},
   "outputs": [
    {
     "name": "stdout",
     "output_type": "stream",
     "text": [
      "['tts_models/be/common-voice/glow-tts',\n",
      " 'tts_models/bg/cv/vits',\n",
      " 'tts_models/bn/custom/vits-female',\n",
      " 'tts_models/bn/custom/vits-male',\n",
      " 'tts_models/ca/custom/vits',\n",
      " 'tts_models/cs/cv/vits',\n",
      " 'tts_models/da/cv/vits',\n",
      " 'tts_models/de/css10/vits-neon',\n",
      " 'tts_models/de/thorsten/tacotron2-DCA',\n",
      " 'tts_models/de/thorsten/tacotron2-DDC',\n",
      " 'tts_models/de/thorsten/vits',\n",
      " 'tts_models/el/cv/vits',\n",
      " 'tts_models/en/blizzard2013/capacitron-t2-c150_v2',\n",
      " 'tts_models/en/blizzard2013/capacitron-t2-c50',\n",
      " 'tts_models/en/ek1/tacotron2',\n",
      " 'tts_models/en/jenny/jenny',\n",
      " 'tts_models/en/ljspeech/fast_pitch',\n",
      " 'tts_models/en/ljspeech/glow-tts',\n",
      " 'tts_models/en/ljspeech/neural_hmm',\n",
      " 'tts_models/en/ljspeech/overflow',\n",
      " 'tts_models/en/ljspeech/speedy-speech',\n",
      " 'tts_models/en/ljspeech/tacotron2-DCA',\n",
      " 'tts_models/en/ljspeech/tacotron2-DDC',\n",
      " 'tts_models/en/ljspeech/tacotron2-DDC_ph',\n",
      " 'tts_models/en/ljspeech/vits',\n",
      " 'tts_models/en/ljspeech/vits--neon',\n",
      " 'tts_models/en/multi-dataset/tortoise-v2',\n",
      " 'tts_models/en/sam/tacotron-DDC',\n",
      " 'tts_models/en/vctk/fast_pitch',\n",
      " 'tts_models/en/vctk/vits',\n",
      " 'tts_models/es/css10/vits',\n",
      " 'tts_models/es/mai/tacotron2-DDC',\n",
      " 'tts_models/et/cv/vits',\n",
      " 'tts_models/ewe/openbible/vits',\n",
      " 'tts_models/fa/custom/glow-tts',\n",
      " 'tts_models/fi/css10/vits',\n",
      " 'tts_models/fr/css10/vits',\n",
      " 'tts_models/fr/mai/tacotron2-DDC',\n",
      " 'tts_models/ga/cv/vits',\n",
      " 'tts_models/hau/openbible/vits',\n",
      " 'tts_models/hr/cv/vits',\n",
      " 'tts_models/hu/css10/vits',\n",
      " 'tts_models/it/mai_female/glow-tts',\n",
      " 'tts_models/it/mai_female/vits',\n",
      " 'tts_models/it/mai_male/glow-tts',\n",
      " 'tts_models/it/mai_male/vits',\n",
      " 'tts_models/ja/kokoro/tacotron2-DDC',\n",
      " 'tts_models/lin/openbible/vits',\n",
      " 'tts_models/lt/cv/vits',\n",
      " 'tts_models/lv/cv/vits',\n",
      " 'tts_models/mt/cv/vits',\n",
      " 'tts_models/multilingual/multi-dataset/bark',\n",
      " 'tts_models/multilingual/multi-dataset/xtts_v1.1',\n",
      " 'tts_models/multilingual/multi-dataset/xtts_v2',\n",
      " 'tts_models/multilingual/multi-dataset/your_tts',\n",
      " 'tts_models/nl/css10/vits',\n",
      " 'tts_models/nl/mai/tacotron2-DDC',\n",
      " 'tts_models/pl/mai_female/vits',\n",
      " 'tts_models/pt/cv/vits',\n",
      " 'tts_models/ro/cv/vits',\n",
      " 'tts_models/sk/cv/vits',\n",
      " 'tts_models/sl/cv/vits',\n",
      " 'tts_models/sv/cv/vits',\n",
      " 'tts_models/tr/common-voice/glow-tts',\n",
      " 'tts_models/tw_akuapem/openbible/vits',\n",
      " 'tts_models/tw_asante/openbible/vits',\n",
      " 'tts_models/uk/mai/glow-tts',\n",
      " 'tts_models/uk/mai/vits',\n",
      " 'tts_models/yor/openbible/vits',\n",
      " 'tts_models/zh-CN/baker/tacotron2-DDC-GST',\n",
      " 'vocoder_models/be/common-voice/hifigan',\n",
      " 'vocoder_models/de/thorsten/fullband-melgan',\n",
      " 'vocoder_models/de/thorsten/hifigan_v1',\n",
      " 'vocoder_models/de/thorsten/wavegrad',\n",
      " 'vocoder_models/en/blizzard2013/hifigan_v2',\n",
      " 'vocoder_models/en/ek1/wavegrad',\n",
      " 'vocoder_models/en/ljspeech/hifigan_v2',\n",
      " 'vocoder_models/en/ljspeech/multiband-melgan',\n",
      " 'vocoder_models/en/ljspeech/univnet',\n",
      " 'vocoder_models/en/sam/hifigan_v2',\n",
      " 'vocoder_models/en/vctk/hifigan_v2',\n",
      " 'vocoder_models/ja/kokoro/hifigan_v1',\n",
      " 'vocoder_models/nl/mai/parallel-wavegan',\n",
      " 'vocoder_models/tr/common-voice/hifigan',\n",
      " 'vocoder_models/uk/mai/multiband-melgan',\n",
      " 'vocoder_models/universal/libri-tts/fullband-melgan',\n",
      " 'vocoder_models/universal/libri-tts/wavegrad',\n",
      " 'voice_conversion_models/multilingual/vctk/freevc24']\n"
     ]
    }
   ],
   "source": [
    "# List available 🐸TTS models\n",
    "pprint(sorted(TTS().list_models().list_models()))"
   ]
  },
  {
   "cell_type": "code",
   "execution_count": 3,
   "id": "42879fbb-dcf1-4c4a-83d7-faf1160b0b1c",
   "metadata": {},
   "outputs": [
    {
     "name": "stdout",
     "output_type": "stream",
     "text": [
      " > tts_models/en/vctk/vits is already downloaded.\n",
      " > Using model: vits\n",
      " > Setting up Audio Processor...\n",
      " | > sample_rate:22050\n",
      " | > resample:False\n",
      " | > num_mels:80\n",
      " | > log_func:np.log10\n",
      " | > min_level_db:0\n",
      " | > frame_shift_ms:None\n",
      " | > frame_length_ms:None\n",
      " | > ref_level_db:None\n",
      " | > fft_size:1024\n",
      " | > power:None\n",
      " | > preemphasis:0.0\n",
      " | > griffin_lim_iters:None\n",
      " | > signal_norm:None\n",
      " | > symmetric_norm:None\n",
      " | > mel_fmin:0\n",
      " | > mel_fmax:None\n",
      " | > pitch_fmin:None\n",
      " | > pitch_fmax:None\n",
      " | > spec_gain:20.0\n",
      " | > stft_pad_mode:reflect\n",
      " | > max_norm:1.0\n",
      " | > clip_norm:True\n",
      " | > do_trim_silence:False\n",
      " | > trim_db:60\n",
      " | > do_sound_norm:False\n",
      " | > do_amp_to_db_linear:True\n",
      " | > do_amp_to_db_mel:True\n",
      " | > do_rms_norm:False\n",
      " | > db_level:None\n",
      " | > stats_path:None\n",
      " | > base:10\n",
      " | > hop_length:256\n",
      " | > win_length:1024\n",
      " > initialization of speaker-embedding layers.\n"
     ]
    }
   ],
   "source": [
    "tts = TTS(\"tts_models/en/vctk/vits\").to('cuda')"
   ]
  },
  {
   "cell_type": "code",
   "execution_count": 4,
   "id": "ad78b90a-5b40-40e2-8b4e-cd8d41cf2aae",
   "metadata": {},
   "outputs": [
    {
     "name": "stdout",
     "output_type": "stream",
     "text": [
      " > Text splitted to sentences.\n",
      "['Hello there, how are you?']\n",
      " > Processing time: 1.3701541423797607\n",
      " > Real-time factor: 0.8135474698264143\n"
     ]
    }
   ],
   "source": [
    "wav = tts.tts(text=\"Hello there, how are you?\", speaker=tts.speakers[2]) #, speaker_wav=\"audio/scarlett_johanson.wav\", language=\"en\")"
   ]
  },
  {
   "cell_type": "markdown",
   "id": "61829a67-857a-4e8a-8fe1-46b9d9586cd3",
   "metadata": {},
   "source": [
    "# With IPython Audio"
   ]
  },
  {
   "cell_type": "code",
   "execution_count": 5,
   "id": "7ec20625-e6fa-4dc6-a02f-6d90efe6df0d",
   "metadata": {},
   "outputs": [],
   "source": [
    "import IPython\n",
    "from IPython.display import Audio\n",
    "from time import sleep\n",
    "import numpy as np "
   ]
  },
  {
   "cell_type": "code",
   "execution_count": 6,
   "id": "7a717c2e-29c4-4a08-bc58-bd2e0dc41c32",
   "metadata": {},
   "outputs": [
    {
     "data": {
      "text/html": [
       "\n",
       "                <audio  controls=\"controls\" autoplay=\"autoplay\">\n",
       "                    <source src=\"data:audio/wav;base64,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\" type=\"audio/wav\" />\n",
       "                    Your browser does not support the audio element.\n",
       "                </audio>\n",
       "              "
      ],
      "text/plain": [
       "<IPython.lib.display.Audio object>"
      ]
     },
     "execution_count": 6,
     "metadata": {},
     "output_type": "execute_result"
    }
   ],
   "source": [
    "Audio(np.array(wav), rate=20000, autoplay=True)"
   ]
  },
  {
   "cell_type": "markdown",
   "id": "98ca9a42-3c73-4bb9-b351-a6af98b28a87",
   "metadata": {},
   "source": [
    "# With Playsound"
   ]
  },
  {
   "cell_type": "code",
   "execution_count": 7,
   "id": "ef9642c0-8167-4724-887d-d767bdddd07a",
   "metadata": {},
   "outputs": [],
   "source": [
    "from scipy.io import wavfile "
   ]
  },
  {
   "cell_type": "code",
   "execution_count": 8,
   "id": "44a047f4-71b0-468c-bedd-fd9c007dec11",
   "metadata": {},
   "outputs": [
    {
     "data": {
      "text/plain": [
       "(0.4668770730495453, -0.5380654335021973)"
      ]
     },
     "execution_count": 8,
     "metadata": {},
     "output_type": "execute_result"
    }
   ],
   "source": [
    "np.array(wav).max(), np.array(wav).min()"
   ]
  },
  {
   "cell_type": "code",
   "execution_count": 14,
   "id": "5fe07a2d-2460-497d-8f4e-bb2feecea4da",
   "metadata": {},
   "outputs": [
    {
     "data": {
      "text/plain": [
       "37136"
      ]
     },
     "execution_count": 14,
     "metadata": {},
     "output_type": "execute_result"
    }
   ],
   "source": [
    "len(wav)"
   ]
  },
  {
   "cell_type": "code",
   "execution_count": 15,
   "id": "f1bcdd9c-2143-4d43-996c-b7f4fa30fda1",
   "metadata": {},
   "outputs": [
    {
     "name": "stdout",
     "output_type": "stream",
     "text": [
      "32767\n"
     ]
    }
   ],
   "source": [
    "amplitude = np.iinfo(np.int16).max\n",
    "print(amplitude)"
   ]
  },
  {
   "cell_type": "code",
   "execution_count": 16,
   "id": "cce21b5d-6c74-41e5-92dd-cbac050486e2",
   "metadata": {},
   "outputs": [],
   "source": [
    "amplified = amplitude * np.array(wav)"
   ]
  },
  {
   "cell_type": "code",
   "execution_count": 17,
   "id": "60768b04-d5dd-483e-b7dd-452e78a6b2a0",
   "metadata": {},
   "outputs": [],
   "source": [
    "filename = \"test_output.wav\""
   ]
  },
  {
   "cell_type": "code",
   "execution_count": 18,
   "id": "04cc6205-7de9-4d34-bbc6-9f27c7c0327c",
   "metadata": {},
   "outputs": [],
   "source": [
    "wavfile.write(filename, 20000, amplified.astype(np.int16))"
   ]
  },
  {
   "cell_type": "code",
   "execution_count": 19,
   "id": "6c9e7156-3309-4486-9223-e2d4f6915f0e",
   "metadata": {},
   "outputs": [],
   "source": [
    "from playsound import  playsound"
   ]
  },
  {
   "cell_type": "code",
   "execution_count": 20,
   "id": "af45f385-41cb-4b84-8f72-0667b5aa8b98",
   "metadata": {},
   "outputs": [],
   "source": [
    "# playsound(\"test_output.wav\")\n",
    "# doesn't work!"
   ]
  },
  {
   "cell_type": "markdown",
   "id": "94ecdd6c-2e0f-4e16-8bac-7921aae0ecc9",
   "metadata": {},
   "source": [
    "# With Pygame"
   ]
  },
  {
   "cell_type": "code",
   "execution_count": 21,
   "id": "064db24f-3079-4cf7-8502-94dc5e57d621",
   "metadata": {},
   "outputs": [
    {
     "name": "stdout",
     "output_type": "stream",
     "text": [
      "pygame 2.5.2 (SDL 2.28.2, Python 3.10.12)\n",
      "Hello from the pygame community. https://www.pygame.org/contribute.html\n"
     ]
    }
   ],
   "source": [
    "import pygame"
   ]
  },
  {
   "cell_type": "code",
   "execution_count": 22,
   "id": "faf06e82-e91b-4124-b268-b10a099cc76d",
   "metadata": {},
   "outputs": [],
   "source": [
    "pygame.mixer.init()"
   ]
  },
  {
   "cell_type": "code",
   "execution_count": 23,
   "id": "7da61a01-a28b-47de-aa08-1715ef41ac6a",
   "metadata": {},
   "outputs": [],
   "source": [
    "filename = \"test_output.wav\""
   ]
  },
  {
   "cell_type": "code",
   "execution_count": 24,
   "id": "e0db2d6c-046b-41ae-b11c-f6d4a1d05873",
   "metadata": {},
   "outputs": [],
   "source": [
    "# pygame.mixer.music.queue(filename)\n",
    "s = pygame.mixer.Sound(filename)\n",
    "channel = s.play()\n",
    "# pygame.mixer.music.play()"
   ]
  },
  {
   "cell_type": "markdown",
   "id": "0d05348f-3a06-4262-8b45-4a5b05f60a4a",
   "metadata": {},
   "source": [
    "# With pydub "
   ]
  },
  {
   "cell_type": "code",
   "execution_count": 25,
   "id": "30f01c48-0f85-43e4-b228-70aba44d5c23",
   "metadata": {},
   "outputs": [],
   "source": [
    "# ! pip install pydub"
   ]
  },
  {
   "cell_type": "code",
   "execution_count": 26,
   "id": "2fa5aca3-45d2-4d52-a9bb-5de665491449",
   "metadata": {},
   "outputs": [],
   "source": [
    "from pydub import AudioSegment\n",
    "from pydub.playback import play"
   ]
  },
  {
   "cell_type": "code",
   "execution_count": 28,
   "id": "3923af48-074c-456d-a38f-1fbaa355898e",
   "metadata": {},
   "outputs": [
    {
     "name": "stdout",
     "output_type": "stream",
     "text": [
      "playing sound using  pydub\n"
     ]
    }
   ],
   "source": [
    "song = AudioSegment.from_wav(\"temp.wav\")\n",
    "print('playing sound using  pydub')\n",
    "# play(song)"
   ]
  },
  {
   "cell_type": "markdown",
   "id": "e3af6efe-4699-48ed-ad68-c95c57f1c500",
   "metadata": {},
   "source": [
    "# With Sounddevice"
   ]
  },
  {
   "cell_type": "code",
   "execution_count": 29,
   "id": "3f8e4972-bdd9-4f93-9c8b-046803fbbaea",
   "metadata": {},
   "outputs": [
    {
     "name": "stdout",
     "output_type": "stream",
     "text": [
      "Requirement already satisfied: sounddevice in /home/ismail/envs/hym/lib/python3.10/site-packages (0.4.6)\n",
      "Requirement already satisfied: CFFI>=1.0 in /home/ismail/envs/hym/lib/python3.10/site-packages (from sounddevice) (1.16.0)\n",
      "Requirement already satisfied: pycparser in /home/ismail/envs/hym/lib/python3.10/site-packages (from CFFI>=1.0->sounddevice) (2.21)\n"
     ]
    }
   ],
   "source": [
    "! pip install sounddevice"
   ]
  },
  {
   "cell_type": "code",
   "execution_count": 31,
   "id": "e1d82648-a7c4-4f8a-8c84-500cd13026bb",
   "metadata": {},
   "outputs": [],
   "source": [
    "import sounddevice as sd\n",
    "\n",
    "# wav = tts.tts(text, speaker, language)\n",
    "\n",
    "sd.play(wav, samplerate=22000)\n",
    "status = sd.wait()  # Wait until file is done playing\n"
   ]
  },
  {
   "cell_type": "markdown",
   "id": "e8f887e8-6d69-41e9-b009-4dceb40f80ce",
   "metadata": {},
   "source": [
    "# With Gradio"
   ]
  },
  {
   "cell_type": "code",
   "execution_count": 32,
   "id": "172e476c-4334-47fb-831e-5daa2224c1de",
   "metadata": {},
   "outputs": [
    {
     "name": "stdout",
     "output_type": "stream",
     "text": [
      "Running on local URL:  http://127.0.0.1:7860\n",
      "\n",
      "To create a public link, set `share=True` in `launch()`.\n"
     ]
    },
    {
     "data": {
      "text/html": [
       "<div><iframe src=\"http://127.0.0.1:7860/\" width=\"100%\" height=\"500\" allow=\"autoplay; camera; microphone; clipboard-read; clipboard-write;\" frameborder=\"0\" allowfullscreen></iframe></div>"
      ],
      "text/plain": [
       "<IPython.core.display.HTML object>"
      ]
     },
     "metadata": {},
     "output_type": "display_data"
    },
    {
     "data": {
      "text/plain": []
     },
     "execution_count": 32,
     "metadata": {},
     "output_type": "execute_result"
    }
   ],
   "source": [
    "import numpy as np\n",
    "import gradio as gr \n",
    "\n",
    "def generate_audio(txt):\n",
    "    wav =  np.array(tts.tts(text=txt, speaker=tts.speakers[2]))\n",
    "    sr = 20000\n",
    "    \n",
    "    yield sr, wav\n",
    "\n",
    "demo = gr.Interface(\n",
    "    generate_audio,\n",
    "    gr.Textbox(label=\"Text\"),\n",
    "    \"audio\",\n",
    "    live=True,\n",
    ")\n",
    "\n",
    "demo.launch()"
   ]
  },
  {
   "cell_type": "code",
   "execution_count": null,
   "id": "87b536f4-facb-4f63-bafd-82b9952e2aa8",
   "metadata": {},
   "outputs": [],
   "source": []
  }
 ],
 "metadata": {
  "kernelspec": {
   "display_name": "Python 3 (ipykernel)",
   "language": "python",
   "name": "python3"
  },
  "language_info": {
   "codemirror_mode": {
    "name": "ipython",
    "version": 3
   },
   "file_extension": ".py",
   "mimetype": "text/x-python",
   "name": "python",
   "nbconvert_exporter": "python",
   "pygments_lexer": "ipython3",
   "version": "3.10.12"
  }
 },
 "nbformat": 4,
 "nbformat_minor": 5
}
