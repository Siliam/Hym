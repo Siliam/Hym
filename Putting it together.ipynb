{
 "cells": [
  {
   "cell_type": "code",
   "execution_count": 14,
   "id": "cca7508a-ea17-464a-865e-2517f0f6a386",
   "metadata": {},
   "outputs": [
    {
     "name": "stdout",
     "output_type": "stream",
     "text": [
      "Thu Mar 14 00:01:43 2024       \n",
      "+---------------------------------------------------------------------------------------+\n",
      "| NVIDIA-SMI 535.86.01              Driver Version: 536.67       CUDA Version: 12.2     |\n",
      "|-----------------------------------------+----------------------+----------------------+\n",
      "| GPU  Name                 Persistence-M | Bus-Id        Disp.A | Volatile Uncorr. ECC |\n",
      "| Fan  Temp   Perf          Pwr:Usage/Cap |         Memory-Usage | GPU-Util  Compute M. |\n",
      "|                                         |                      |               MIG M. |\n",
      "|=========================================+======================+======================|\n",
      "|   0  NVIDIA GeForce RTX 4070        On  | 00000000:24:00.0  On |                  N/A |\n",
      "|  0%   36C    P8               9W / 200W |   2583MiB / 12282MiB |      0%      Default |\n",
      "|                                         |                      |                  N/A |\n",
      "+-----------------------------------------+----------------------+----------------------+\n",
      "                                                                                         \n",
      "+---------------------------------------------------------------------------------------+\n",
      "| Processes:                                                                            |\n",
      "|  GPU   GI   CI        PID   Type   Process name                            GPU Memory |\n",
      "|        ID   ID                                                             Usage      |\n",
      "|=======================================================================================|\n",
      "|    0   N/A  N/A       145      C   /ollama                                   N/A      |\n",
      "|    0   N/A  N/A       364      G   /Xwayland                                 N/A      |\n",
      "|    0   N/A  N/A    121769      C   /python3.10                               N/A      |\n",
      "|    0   N/A  N/A    122846      C   /python3.10                               N/A      |\n",
      "+---------------------------------------------------------------------------------------+\n"
     ]
    }
   ],
   "source": [
    "! nvidia-smi"
   ]
  },
  {
   "cell_type": "code",
   "execution_count": 15,
   "id": "66f4b8c8-773d-4858-b755-c9a35804c4fd",
   "metadata": {},
   "outputs": [],
   "source": [
    "# ! mkdir soundbites"
   ]
  },
  {
   "cell_type": "code",
   "execution_count": 16,
   "id": "67da8c03-8d03-4eb2-9a30-50062edf7084",
   "metadata": {},
   "outputs": [],
   "source": [
    "# ! pip install ipywidgets"
   ]
  },
  {
   "cell_type": "code",
   "execution_count": 17,
   "id": "44dd5966-f1d5-40f2-a271-42e0affe2c93",
   "metadata": {},
   "outputs": [],
   "source": [
    "import torch\n",
    "import numpy as np\n",
    "import gradio as gr\n",
    "import IPython\n",
    "\n",
    "from TTS.api import TTS\n",
    "from pprint import pprint\n",
    "from IPython.display import Audio\n",
    "from langchain_community.llms import Ollama\n",
    "from optimum.bettertransformer import BetterTransformer\n",
    "from langchain.callbacks.manager import CallbackManager\n",
    "from transformers import AutoModelForSpeechSeq2Seq, AutoProcessor, pipeline\n",
    "from langchain.callbacks.streaming_stdout import StreamingStdOutCallbackHandler\n",
    "from langchain.callbacks.base import BaseCallbackHandler"
   ]
  },
  {
   "cell_type": "code",
   "execution_count": 18,
   "id": "1426e32a-b929-4636-87d1-164c5acf1055",
   "metadata": {},
   "outputs": [],
   "source": [
    "import pygame\n",
    "pygame.mixer.init()"
   ]
  },
  {
   "cell_type": "code",
   "execution_count": 19,
   "id": "0b411545-db93-4cc7-a069-6284f7fb35c7",
   "metadata": {},
   "outputs": [
    {
     "name": "stdout",
     "output_type": "stream",
     "text": [
      " > tts_models/en/vctk/vits is already downloaded.\n",
      " > Using model: vits\n",
      " > Setting up Audio Processor...\n",
      " | > sample_rate:22050\n",
      " | > resample:False\n",
      " | > num_mels:80\n",
      " | > log_func:np.log10\n",
      " | > min_level_db:0\n",
      " | > frame_shift_ms:None\n",
      " | > frame_length_ms:None\n",
      " | > ref_level_db:None\n",
      " | > fft_size:1024\n",
      " | > power:None\n",
      " | > preemphasis:0.0\n",
      " | > griffin_lim_iters:None\n",
      " | > signal_norm:None\n",
      " | > symmetric_norm:None\n",
      " | > mel_fmin:0\n",
      " | > mel_fmax:None\n",
      " | > pitch_fmin:None\n",
      " | > pitch_fmax:None\n",
      " | > spec_gain:20.0\n",
      " | > stft_pad_mode:reflect\n",
      " | > max_norm:1.0\n",
      " | > clip_norm:True\n",
      " | > do_trim_silence:False\n",
      " | > trim_db:60\n",
      " | > do_sound_norm:False\n",
      " | > do_amp_to_db_linear:True\n",
      " | > do_amp_to_db_mel:True\n",
      " | > do_rms_norm:False\n",
      " | > db_level:None\n",
      " | > stats_path:None\n",
      " | > base:10\n",
      " | > hop_length:256\n",
      " | > win_length:1024\n",
      " > initialization of speaker-embedding layers.\n"
     ]
    }
   ],
   "source": [
    "tts = TTS(\"tts_models/en/vctk/vits\").to('cuda')"
   ]
  },
  {
   "cell_type": "code",
   "execution_count": 20,
   "id": "6f650bbe-8079-46dc-818a-2308fe4729dc",
   "metadata": {},
   "outputs": [],
   "source": [
    "# wav = tts.tts(text=\"I'm just an AI, I don't have feelings or emotions like humans do, so I can't experience the world in the same way that you do. However, I'm here to help answer any questions you may have, provide information, and assist you in any way I can. Is there something specific you would like to know or discuss?\", speaker=tts.speakers[2]) #, speaker_wav=\"audio/scarlett_johanson.wav\", language=\"en\")\n",
    "# Audio(np.array(wav), rate=20000, autoplay=True)"
   ]
  },
  {
   "cell_type": "code",
   "execution_count": null,
   "id": "20d3fe10-4882-45c5-8541-8f020a53c8f6",
   "metadata": {},
   "outputs": [],
   "source": []
  },
  {
   "cell_type": "code",
   "execution_count": 21,
   "id": "5787d671-55ce-487b-a59b-ce6cfd102bac",
   "metadata": {},
   "outputs": [],
   "source": [
    "# llm = Ollama( model=\"openhermes\", callback_manager=CallbackManager([StreamingStdOutCallbackHandler()]), )"
   ]
  },
  {
   "cell_type": "code",
   "execution_count": 22,
   "id": "58d81f4c-091f-438b-b83e-3e44cf4e63f1",
   "metadata": {},
   "outputs": [],
   "source": [
    "class MyStreamingCallback(BaseCallbackHandler):\n",
    "    def __init__(self):\n",
    "        self.content = \"\"\n",
    "        \n",
    "    def on_llm_new_token(self, token: str, **kwargs):\n",
    "        self.content += token\n",
    "        if self.content.strip()[-1] in ['.', '?', '!', ':']:\n",
    "            wav = tts.tts(self.content, speaker=tts.speakers[2], verbose=False)\n",
    "            IPython.display.display(Audio(np.array(wav), rate=20000))\n",
    "            print(self.content)\n",
    "            self.content = \"\"\n",
    "            sleep(len(wav) / 20000)\n",
    "\n",
    "handler = MyStreamingCallback()"
   ]
  },
  {
   "cell_type": "code",
   "execution_count": 23,
   "id": "59b37d2d-108e-4633-9201-cc383b67844f",
   "metadata": {},
   "outputs": [],
   "source": [
    "class MyStreamingCallback(BaseCallbackHandler):\n",
    "    def __init__(self):\n",
    "        self.content = \"\"\n",
    "        \n",
    "    def on_llm_new_token(self, token: str, **kwargs):\n",
    "        self.content += token\n",
    "        if self.content.strip()[-1] in ['.', '?', '!', ':']:\n",
    "            wav = tts.tts(self.content, speaker=tts.speakers[2], verbose=False)\n",
    "            filename = \"soundbites/\"+ self.content[:12] + \".wav\"\n",
    "            tts.tts_to_file(text=self.content, speaker=tts.speakers[2], file_path=filename)\n",
    "            \n",
    "            if pygame.mixer.music.get_busy() == True:\n",
    "                pygame.mixer.music.queue(filename)\n",
    "            else:\n",
    "                pygame.mixer.music.load(filename)\n",
    "                pygame.mixer.music.play()\n",
    "            print(self.content)\n",
    "            self.content = \"\"\n",
    "\n",
    "handler = MyStreamingCallback()"
   ]
  },
  {
   "cell_type": "code",
   "execution_count": 24,
   "id": "eecd59db-174b-46ef-9dd9-8535b9412fee",
   "metadata": {},
   "outputs": [],
   "source": [
    "filename = \"soundbites/ However, I'.wav\""
   ]
  },
  {
   "cell_type": "code",
   "execution_count": 25,
   "id": "661039a0-5baa-4120-9333-0866b8e23dd2",
   "metadata": {},
   "outputs": [
    {
     "data": {
      "text/plain": [
       "False"
      ]
     },
     "execution_count": 25,
     "metadata": {},
     "output_type": "execute_result"
    }
   ],
   "source": [
    "pygame.mixer.music.get_busy()"
   ]
  },
  {
   "cell_type": "code",
   "execution_count": 26,
   "id": "28d98dab-71ef-4cef-bfc1-10a76943bc7c",
   "metadata": {},
   "outputs": [],
   "source": [
    "pygame.mixer.music.load(filename)\n",
    "pygame.mixer.music.play()"
   ]
  },
  {
   "cell_type": "code",
   "execution_count": 27,
   "id": "f8b56b42-7276-423d-a51b-7bb63a581f84",
   "metadata": {},
   "outputs": [],
   "source": [
    "llm2 = Ollama(\n",
    "    model=\"openhermes\",\n",
    "    callbacks=[handler],\n",
    ")"
   ]
  },
  {
   "cell_type": "code",
   "execution_count": 28,
   "id": "89ee7369-5fa7-4bbd-862e-435b9ef019e4",
   "metadata": {},
   "outputs": [
    {
     "name": "stdout",
     "output_type": "stream",
     "text": [
      " > Text splitted to sentences.\n",
      "[\"I'm doing well, thank you!\"]\n",
      " > Processing time: 0.989565372467041\n",
      " > Real-time factor: 0.5999757056450246\n",
      " > Text splitted to sentences.\n",
      "[\"I'm doing well, thank you!\"]\n",
      " > Processing time: 0.27623534202575684\n",
      " > Real-time factor: 0.17233446388829612\n",
      "I'm doing well, thank you!\n",
      " > Text splitted to sentences.\n",
      "['How about you?']\n"
     ]
    },
    {
     "name": "stderr",
     "output_type": "stream",
     "text": [
      "WARNING:langchain_core.callbacks.manager:Error in MyStreamingCallback.on_llm_new_token callback: IndexError('string index out of range')\n"
     ]
    },
    {
     "name": "stdout",
     "output_type": "stream",
     "text": [
      " > Processing time: 0.32928037643432617\n",
      " > Real-time factor: 0.2699521230062794\n",
      " > Text splitted to sentences.\n",
      "['How about you?']\n",
      " > Processing time: 0.1315593719482422\n",
      " > Real-time factor: 0.10994861095583461\n",
      " How about you?\n"
     ]
    },
    {
     "data": {
      "text/plain": [
       "\"I'm doing well, thank you! How about you?\""
      ]
     },
     "execution_count": 28,
     "metadata": {},
     "output_type": "execute_result"
    }
   ],
   "source": [
    "llm2.invoke(\"Hey how are you doing?\")"
   ]
  },
  {
   "cell_type": "code",
   "execution_count": 29,
   "id": "a248ff78-8898-4de4-a3b9-9a5da6543504",
   "metadata": {},
   "outputs": [],
   "source": [
    "# llm(\"How are you feeling today?\")"
   ]
  },
  {
   "cell_type": "code",
   "execution_count": 30,
   "id": "322f89bd-126e-429a-a161-49b9f2ea589d",
   "metadata": {},
   "outputs": [
    {
     "name": "stderr",
     "output_type": "stream",
     "text": [
      "Special tokens have been added in the vocabulary, make sure the associated word embeddings are fine-tuned or trained.\n"
     ]
    }
   ],
   "source": [
    "whisper_model_id = \"distil-whisper/distil-medium.en\"\n",
    "\n",
    "whisper = AutoModelForSpeechSeq2Seq.from_pretrained(\n",
    "    whisper_model_id, torch_dtype=torch.float16, low_cpu_mem_usage=True, use_safetensors=True# , use_flash_attention_2=True\n",
    ")\n",
    "whisper.to(\"cuda\")\n",
    "# model = model.to_bettertransformer() # we are using optimum BetterTransformer since Flash Attention 2 isn't supported on Colab\n",
    "processor = AutoProcessor.from_pretrained(whisper_model_id)"
   ]
  },
  {
   "cell_type": "code",
   "execution_count": 31,
   "id": "b1ad958f-a079-4329-a4dc-a6cee5917854",
   "metadata": {},
   "outputs": [],
   "source": [
    "asr_pipe = pipeline(\n",
    "    \"automatic-speech-recognition\",\n",
    "    model=whisper,\n",
    "    tokenizer=processor.tokenizer,\n",
    "    feature_extractor=processor.feature_extractor,\n",
    "    max_new_tokens=128,\n",
    "    chunk_length_s=15, #long form transcription\n",
    "    batch_size=16,\n",
    "    torch_dtype=torch.float16,\n",
    "    device='cuda',\n",
    ")"
   ]
  },
  {
   "cell_type": "code",
   "execution_count": null,
   "id": "f52c9735-db35-421f-937f-7f9072c3d649",
   "metadata": {},
   "outputs": [
    {
     "name": "stdout",
     "output_type": "stream",
     "text": [
      "Running on local URL:  http://127.0.0.1:7860\n",
      "\n",
      "To create a public link, set `share=True` in `launch()`.\n"
     ]
    },
    {
     "data": {
      "text/html": [
       "<div><iframe src=\"http://127.0.0.1:7860/\" width=\"100%\" height=\"500\" allow=\"autoplay; camera; microphone; clipboard-read; clipboard-write;\" frameborder=\"0\" allowfullscreen></iframe></div>"
      ],
      "text/plain": [
       "<IPython.core.display.HTML object>"
      ]
     },
     "metadata": {},
     "output_type": "display_data"
    },
    {
     "name": "stderr",
     "output_type": "stream",
     "text": [
      "Traceback (most recent call last):\n",
      "  File \"/home/ismail/envs/hym/lib/python3.10/site-packages/gradio/queueing.py\", line 495, in call_prediction\n",
      "    output = await route_utils.call_process_api(\n",
      "  File \"/home/ismail/envs/hym/lib/python3.10/site-packages/gradio/route_utils.py\", line 232, in call_process_api\n",
      "    output = await app.get_blocks().process_api(\n",
      "  File \"/home/ismail/envs/hym/lib/python3.10/site-packages/gradio/blocks.py\", line 1561, in process_api\n",
      "    result = await self.call_function(\n",
      "  File \"/home/ismail/envs/hym/lib/python3.10/site-packages/gradio/blocks.py\", line 1179, in call_function\n",
      "    prediction = await anyio.to_thread.run_sync(\n",
      "  File \"/home/ismail/envs/hym/lib/python3.10/site-packages/anyio/to_thread.py\", line 56, in run_sync\n",
      "    return await get_async_backend().run_sync_in_worker_thread(\n",
      "  File \"/home/ismail/envs/hym/lib/python3.10/site-packages/anyio/_backends/_asyncio.py\", line 2134, in run_sync_in_worker_thread\n",
      "    return await future\n",
      "  File \"/home/ismail/envs/hym/lib/python3.10/site-packages/anyio/_backends/_asyncio.py\", line 851, in run\n",
      "    result = context.run(func, *args)\n",
      "  File \"/home/ismail/envs/hym/lib/python3.10/site-packages/gradio/utils.py\", line 678, in wrapper\n",
      "    response = f(*args, **kwargs)\n",
      "  File \"/tmp/ipykernel_121769/1596344978.py\", line 5, in transcribe\n",
      "    output = asr_pipe(\n",
      "  File \"/home/ismail/envs/hym/lib/python3.10/site-packages/transformers/pipelines/automatic_speech_recognition.py\", line 357, in __call__\n",
      "    return super().__call__(inputs, **kwargs)\n",
      "  File \"/home/ismail/envs/hym/lib/python3.10/site-packages/transformers/pipelines/base.py\", line 1132, in __call__\n",
      "    return next(\n",
      "  File \"/home/ismail/envs/hym/lib/python3.10/site-packages/transformers/pipelines/pt_utils.py\", line 124, in __next__\n",
      "    item = next(self.iterator)\n",
      "  File \"/home/ismail/envs/hym/lib/python3.10/site-packages/transformers/pipelines/pt_utils.py\", line 266, in __next__\n",
      "    processed = self.infer(next(self.iterator), **self.params)\n",
      "  File \"/home/ismail/envs/hym/lib/python3.10/site-packages/torch/utils/data/dataloader.py\", line 630, in __next__\n",
      "    data = self._next_data()\n",
      "  File \"/home/ismail/envs/hym/lib/python3.10/site-packages/torch/utils/data/dataloader.py\", line 674, in _next_data\n",
      "    data = self._dataset_fetcher.fetch(index)  # may raise StopIteration\n",
      "  File \"/home/ismail/envs/hym/lib/python3.10/site-packages/torch/utils/data/_utils/fetch.py\", line 32, in fetch\n",
      "    data.append(next(self.dataset_iter))\n",
      "  File \"/home/ismail/envs/hym/lib/python3.10/site-packages/transformers/pipelines/pt_utils.py\", line 183, in __next__\n",
      "    processed = next(self.subiterator)\n",
      "  File \"/home/ismail/envs/hym/lib/python3.10/site-packages/transformers/pipelines/automatic_speech_recognition.py\", line 482, in preprocess\n",
      "    raise ValueError(f\"We expect a numpy ndarray as input, got `{type(inputs)}`\")\n",
      "ValueError: We expect a numpy ndarray as input, got `<class 'NoneType'>`\n"
     ]
    }
   ],
   "source": [
    "import gradio as gr\n",
    "import numpy as np\n",
    "\n",
    "def transcribe(filepath):\n",
    "    output = asr_pipe(\n",
    "        filepath,\n",
    "    )\n",
    "    return output[\"text\"]\n",
    "\n",
    "\n",
    "def transcribe_streaming(stream, new_chunk):\n",
    "    sr, y = new_chunk\n",
    "    y = y.astype(np.float32)\n",
    "    y /= np.max(np.abs(y))\n",
    "\n",
    "    if stream is not None:\n",
    "        stream = np.concatenate([stream, y])\n",
    "    else:\n",
    "        stream = y\n",
    "\n",
    "    transcribed_stream = asr_pipe({\"sampling_rate\": sr, \"raw\": stream})[\"text\"]\n",
    "    if transcribed_stream.strip().endswith('?') and len(transcribed_stream) > 30:\n",
    "        for w in llm(transcribed_stream):\n",
    "            self.content += transcribed_stream\n",
    "            wav = tts.tts(self.content, speaker=tts.speakers[2], verbose=False)\n",
    "            filename = \"soundbites/\"+ self.content[:12] + \".wav\"\n",
    "            tts.tts_to_file(text=self.content, speaker=tts.speakers[2], file_path=filename)\n",
    "            \n",
    "            if pygame.mixer.music.get_busy() == True:\n",
    "                pygame.mixer.music.queue(filename)\n",
    "            else:\n",
    "                pygame.mixer.music.load(filename)\n",
    "                pygame.mixer.music.play()\n",
    "            print(self.content)\n",
    "            self.content = \"\"\n",
    "    \n",
    "    return stream, transcribed_stream\n",
    "\n",
    "demo = gr.Blocks()\n",
    "\n",
    "mic_transcribe = gr.Interface(\n",
    "    title='My Audio Transcription App Powered by Distill Whisper',\n",
    "    description=\"Start recording\",\n",
    "    fn=transcribe_streaming,\n",
    "    inputs=[\"state\", gr.Audio(sources=\"microphone\", streaming=True)],\n",
    "    outputs=[\"state\", \"text\"],\n",
    "    live=True,\n",
    ")\n",
    "\n",
    "\n",
    "file_transcribe = gr.Interface(\n",
    "    title='My Audio Transcription App Powered by Distill Whisper',\n",
    "    description=\"Upload an audio file\",\n",
    "    fn=transcribe,\n",
    "    inputs=gr.Audio(sources=\"upload\", type=\"filepath\"),\n",
    "    outputs=gr.Textbox(),\n",
    ")\n",
    "\n",
    "\n",
    "gr.close_all()\n",
    "\n",
    "with demo:\n",
    "    gr.TabbedInterface(\n",
    "        [mic_transcribe, file_transcribe],\n",
    "        [\"Transcribe Microphone\",  \"Transcribe Audio File\", ],\n",
    "    )\n",
    "\n",
    "demo.launch(debug=True)"
   ]
  },
  {
   "cell_type": "code",
   "execution_count": null,
   "id": "6b1e72f3-dd87-4568-bb5b-aadd0777f1ee",
   "metadata": {},
   "outputs": [],
   "source": [
    "torch.float16"
   ]
  },
  {
   "cell_type": "code",
   "execution_count": null,
   "id": "521d9f86-bd20-4ffc-b6fe-fe5417452d60",
   "metadata": {},
   "outputs": [],
   "source": []
  }
 ],
 "metadata": {
  "kernelspec": {
   "display_name": "Python 3 (ipykernel)",
   "language": "python",
   "name": "python3"
  },
  "language_info": {
   "codemirror_mode": {
    "name": "ipython",
    "version": 3
   },
   "file_extension": ".py",
   "mimetype": "text/x-python",
   "name": "python",
   "nbconvert_exporter": "python",
   "pygments_lexer": "ipython3",
   "version": "3.10.12"
  }
 },
 "nbformat": 4,
 "nbformat_minor": 5
}
