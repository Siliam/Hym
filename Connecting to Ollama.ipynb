{
 "cells": [
  {
   "cell_type": "code",
   "execution_count": 1,
   "id": "4f7c1377-2838-449e-aa8e-860e20a5aadf",
   "metadata": {},
   "outputs": [],
   "source": [
    "! pip3 install -q langchain"
   ]
  },
  {
   "cell_type": "code",
   "execution_count": 2,
   "id": "d08c6a43-dccc-42d9-8adf-9f769feaf797",
   "metadata": {},
   "outputs": [],
   "source": [
    "from langchain.callbacks.manager import CallbackManager\n",
    "from langchain.callbacks.streaming_stdout import StreamingStdOutCallbackHandler\n",
    "from langchain_community.llms import Ollama\n",
    "\n",
    "llm = Ollama(\n",
    "    model=\"llama2\",\n",
    "    callback_manager=CallbackManager([StreamingStdOutCallbackHandler()]),\n",
    ")"
   ]
  },
  {
   "cell_type": "code",
   "execution_count": 3,
   "id": "d6a59557-8f87-4728-8090-3ed67ef6b5b9",
   "metadata": {},
   "outputs": [
    {
     "name": "stderr",
     "output_type": "stream",
     "text": [
      "/home/ismail/envs/hym/lib/python3.10/site-packages/langchain_core/_api/deprecation.py:117: LangChainDeprecationWarning: The function `__call__` was deprecated in LangChain 0.1.7 and will be removed in 0.2.0. Use invoke instead.\n",
      "  warn_deprecated(\n"
     ]
    },
    {
     "name": "stdout",
     "output_type": "stream",
     "text": [
      "\n",
      "Artificial intelligence (AI) has a rich and varied history that spans several decades. Here is a brief overview of some of the key events and milestones in the development of AI:\n",
      "\n",
      "1. 1950s: The Dartmouth Conference - The field of AI was founded at a conference held at Dartmouth College in 1956. Attendees included computer scientists, mathematicians, and cognitive scientists who were interested in exploring the possibilities of creating machines that could simulate human intelligence.\n",
      "2. 1951: The Turing Test - British mathematician Alan Turing proposed a test to measure a machine's ability to exhibit intelligent behavior equivalent to, or indistinguishable from, that of a human. The Turing Test has since become a benchmark for measuring the success of AI systems.\n",
      "3. 1956: The First AI Program - Computer scientist John McCarthy created the first AI program, called the Logical Theorist, which was designed to reason and solve problems using logical deduction.\n",
      "4. 1960s: Rule-Based Expert Systems - The development of rule-based expert systems, which used a set of rules to reason and make decisions, marked a significant milestone in the history of AI. These systems were widely used in industries such as banking and healthcare.\n",
      "5. 1970s: Machine Learning - Machine learning, which enables machines to learn from data without being explicitly programmed, emerged as a major area of research in AI. This led to the development of algorithms such as decision trees and neural networks.\n",
      "6. 1980s: Expert Systems - The development of expert systems, which were designed to mimic the decision-making abilities of human experts, reached its peak in the 1980s. These systems were widely used in industries such as banking and healthcare.\n",
      "7. 1990s: AI Winter - Despite the progress that had been made in AI research, the field experienced a decline in funding and interest in the 1990s, which became known as the \"AI winter.\"\n",
      "8. 2000s: Resurgence of AI - The resurgence of AI in the 2000s was fueled by advances in computing power, data storage, and machine learning algorithms. This led to the development of applications such as speech recognition, image recognition, and natural language processing.\n",
      "9. 2010s: Deep Learning - The emergence of deep learning, a subset of machine learning that uses neural networks with multiple layers, has led to significant advances in AI. Applications include image and speech recognition, natural language processing, and autonomous vehicles.\n",
      "10. Present Day: AI Now - Today, AI is being applied to a wide range of industries and domains, including healthcare, finance, education, and transportation. The field is continuing to evolve, with new technologies and techniques being developed all the time.\n",
      "\n",
      "Overall, the history of AI reflects a long-standing interest in creating machines that can think and reason like humans. While the field has experienced periods of progress and setbacks, it continues to evolve and expand into new areas of research and application."
     ]
    },
    {
     "data": {
      "text/plain": [
       "'\\nArtificial intelligence (AI) has a rich and varied history that spans several decades. Here is a brief overview of some of the key events and milestones in the development of AI:\\n\\n1. 1950s: The Dartmouth Conference - The field of AI was founded at a conference held at Dartmouth College in 1956. Attendees included computer scientists, mathematicians, and cognitive scientists who were interested in exploring the possibilities of creating machines that could simulate human intelligence.\\n2. 1951: The Turing Test - British mathematician Alan Turing proposed a test to measure a machine\\'s ability to exhibit intelligent behavior equivalent to, or indistinguishable from, that of a human. The Turing Test has since become a benchmark for measuring the success of AI systems.\\n3. 1956: The First AI Program - Computer scientist John McCarthy created the first AI program, called the Logical Theorist, which was designed to reason and solve problems using logical deduction.\\n4. 1960s: Rule-Based Expert Systems - The development of rule-based expert systems, which used a set of rules to reason and make decisions, marked a significant milestone in the history of AI. These systems were widely used in industries such as banking and healthcare.\\n5. 1970s: Machine Learning - Machine learning, which enables machines to learn from data without being explicitly programmed, emerged as a major area of research in AI. This led to the development of algorithms such as decision trees and neural networks.\\n6. 1980s: Expert Systems - The development of expert systems, which were designed to mimic the decision-making abilities of human experts, reached its peak in the 1980s. These systems were widely used in industries such as banking and healthcare.\\n7. 1990s: AI Winter - Despite the progress that had been made in AI research, the field experienced a decline in funding and interest in the 1990s, which became known as the \"AI winter.\"\\n8. 2000s: Resurgence of AI - The resurgence of AI in the 2000s was fueled by advances in computing power, data storage, and machine learning algorithms. This led to the development of applications such as speech recognition, image recognition, and natural language processing.\\n9. 2010s: Deep Learning - The emergence of deep learning, a subset of machine learning that uses neural networks with multiple layers, has led to significant advances in AI. Applications include image and speech recognition, natural language processing, and autonomous vehicles.\\n10. Present Day: AI Now - Today, AI is being applied to a wide range of industries and domains, including healthcare, finance, education, and transportation. The field is continuing to evolve, with new technologies and techniques being developed all the time.\\n\\nOverall, the history of AI reflects a long-standing interest in creating machines that can think and reason like humans. While the field has experienced periods of progress and setbacks, it continues to evolve and expand into new areas of research and application.'"
      ]
     },
     "execution_count": 3,
     "metadata": {},
     "output_type": "execute_result"
    }
   ],
   "source": [
    "llm(\"Tell me about the history of AI\")"
   ]
  },
  {
   "cell_type": "code",
   "execution_count": 4,
   "id": "29e7da2c-53d0-4dd0-91c3-bc3e5509621c",
   "metadata": {},
   "outputs": [
    {
     "name": "stdout",
     "output_type": "stream",
     "text": [
      "\n",
      "I'm just an AI, I don't have feelings in the way that humans do. I'm here to help answer your questions and provide information to the best of my ability, so please let me know if there's something specific you'd like to know or discuss!"
     ]
    },
    {
     "data": {
      "text/plain": [
       "\"\\nI'm just an AI, I don't have feelings in the way that humans do. I'm here to help answer your questions and provide information to the best of my ability, so please let me know if there's something specific you'd like to know or discuss!\""
      ]
     },
     "execution_count": 4,
     "metadata": {},
     "output_type": "execute_result"
    }
   ],
   "source": [
    "llm(\"How are you feeling today?\")"
   ]
  },
  {
   "cell_type": "code",
   "execution_count": null,
   "id": "6c7375b8-0dfc-40de-9a01-5520daae86ff",
   "metadata": {},
   "outputs": [],
   "source": []
  }
 ],
 "metadata": {
  "kernelspec": {
   "display_name": "Python 3 (ipykernel)",
   "language": "python",
   "name": "python3"
  },
  "language_info": {
   "codemirror_mode": {
    "name": "ipython",
    "version": 3
   },
   "file_extension": ".py",
   "mimetype": "text/x-python",
   "name": "python",
   "nbconvert_exporter": "python",
   "pygments_lexer": "ipython3",
   "version": "3.10.12"
  }
 },
 "nbformat": 4,
 "nbformat_minor": 5
}
